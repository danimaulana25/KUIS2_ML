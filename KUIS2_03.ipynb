{
 "cells": [
  {
   "cell_type": "code",
   "execution_count": 1,
   "metadata": {},
   "outputs": [],
   "source": [
    "import pandas as pd\n",
    "import numpy as np \n",
    "import matplotlib.pyplot as plt\n",
    "import seaborn as sns"
   ]
  },
  {
   "cell_type": "code",
   "execution_count": 2,
   "metadata": {},
   "outputs": [
    {
     "data": {
      "text/html": [
       "<div>\n",
       "<style scoped>\n",
       "    .dataframe tbody tr th:only-of-type {\n",
       "        vertical-align: middle;\n",
       "    }\n",
       "\n",
       "    .dataframe tbody tr th {\n",
       "        vertical-align: top;\n",
       "    }\n",
       "\n",
       "    .dataframe thead th {\n",
       "        text-align: right;\n",
       "    }\n",
       "</style>\n",
       "<table border=\"1\" class=\"dataframe\">\n",
       "  <thead>\n",
       "    <tr style=\"text-align: right;\">\n",
       "      <th></th>\n",
       "      <th>id_ketua</th>\n",
       "      <th>id_anggota1</th>\n",
       "      <th>id_anggota2</th>\n",
       "      <th>id_anggota3</th>\n",
       "      <th>id_anggota4</th>\n",
       "      <th>id_anggota5</th>\n",
       "      <th>keterlibatan_vltr</th>\n",
       "      <th>jml_vltr_terlibat</th>\n",
       "      <th>tahun</th>\n",
       "      <th>skema</th>\n",
       "      <th>luaran_hki</th>\n",
       "      <th>jenis_luaran_hki</th>\n",
       "      <th>potensi_hki</th>\n",
       "      <th>luaran_lain</th>\n",
       "      <th>jenis_luaran_lain</th>\n",
       "      <th>status_luaran_lain</th>\n",
       "    </tr>\n",
       "  </thead>\n",
       "  <tbody>\n",
       "    <tr>\n",
       "      <th>0</th>\n",
       "      <td>7206.0</td>\n",
       "      <td>7214.0</td>\n",
       "      <td>6211.0</td>\n",
       "      <td>8602.0</td>\n",
       "      <td>7801.0</td>\n",
       "      <td>NaN</td>\n",
       "      <td>TIDAK</td>\n",
       "      <td>0</td>\n",
       "      <td>2019</td>\n",
       "      <td>REGULER</td>\n",
       "      <td>TIDAK ADA</td>\n",
       "      <td>TIDAK ADA</td>\n",
       "      <td>TIDAK</td>\n",
       "      <td>TIDAK ADA</td>\n",
       "      <td>TIDAK ADA</td>\n",
       "      <td>TIDAK ADA</td>\n",
       "    </tr>\n",
       "    <tr>\n",
       "      <th>1</th>\n",
       "      <td>7214.0</td>\n",
       "      <td>7109.0</td>\n",
       "      <td>8402.0</td>\n",
       "      <td>7903.0</td>\n",
       "      <td>9202.0</td>\n",
       "      <td>NaN</td>\n",
       "      <td>TIDAK</td>\n",
       "      <td>0</td>\n",
       "      <td>2019</td>\n",
       "      <td>REGULER</td>\n",
       "      <td>TIDAK ADA</td>\n",
       "      <td>TIDAK ADA</td>\n",
       "      <td>TIDAK</td>\n",
       "      <td>TIDAK ADA</td>\n",
       "      <td>TIDAK ADA</td>\n",
       "      <td>TIDAK ADA</td>\n",
       "    </tr>\n",
       "    <tr>\n",
       "      <th>2</th>\n",
       "      <td>5911.0</td>\n",
       "      <td>8201.0</td>\n",
       "      <td>8701.0</td>\n",
       "      <td>9101.0</td>\n",
       "      <td>9003.0</td>\n",
       "      <td>NaN</td>\n",
       "      <td>TIDAK</td>\n",
       "      <td>0</td>\n",
       "      <td>2019</td>\n",
       "      <td>REGULER</td>\n",
       "      <td>TIDAK ADA</td>\n",
       "      <td>TIDAK ADA</td>\n",
       "      <td>TIDAK</td>\n",
       "      <td>TIDAK ADA</td>\n",
       "      <td>TIDAK ADA</td>\n",
       "      <td>TIDAK ADA</td>\n",
       "    </tr>\n",
       "    <tr>\n",
       "      <th>3</th>\n",
       "      <td>8402.0</td>\n",
       "      <td>7702.0</td>\n",
       "      <td>8602.0</td>\n",
       "      <td>8903.0</td>\n",
       "      <td>8903.0</td>\n",
       "      <td>NaN</td>\n",
       "      <td>TIDAK</td>\n",
       "      <td>0</td>\n",
       "      <td>2019</td>\n",
       "      <td>REGULER</td>\n",
       "      <td>TIDAK ADA</td>\n",
       "      <td>TIDAK ADA</td>\n",
       "      <td>TIDAK</td>\n",
       "      <td>TIDAK ADA</td>\n",
       "      <td>TIDAK ADA</td>\n",
       "      <td>TIDAK ADA</td>\n",
       "    </tr>\n",
       "    <tr>\n",
       "      <th>4</th>\n",
       "      <td>8201.0</td>\n",
       "      <td>8305.0</td>\n",
       "      <td>5911.0</td>\n",
       "      <td>5903.0</td>\n",
       "      <td>8402.0</td>\n",
       "      <td>NaN</td>\n",
       "      <td>TIDAK</td>\n",
       "      <td>0</td>\n",
       "      <td>2019</td>\n",
       "      <td>REGULER</td>\n",
       "      <td>TIDAK ADA</td>\n",
       "      <td>TIDAK ADA</td>\n",
       "      <td>TIDAK</td>\n",
       "      <td>TIDAK ADA</td>\n",
       "      <td>TIDAK ADA</td>\n",
       "      <td>TIDAK ADA</td>\n",
       "    </tr>\n",
       "  </tbody>\n",
       "</table>\n",
       "</div>"
      ],
      "text/plain": [
       "   id_ketua  id_anggota1  id_anggota2  id_anggota3  id_anggota4  id_anggota5  \\\n",
       "0    7206.0       7214.0       6211.0       8602.0       7801.0          NaN   \n",
       "1    7214.0       7109.0       8402.0       7903.0       9202.0          NaN   \n",
       "2    5911.0       8201.0       8701.0       9101.0       9003.0          NaN   \n",
       "3    8402.0       7702.0       8602.0       8903.0       8903.0          NaN   \n",
       "4    8201.0       8305.0       5911.0       5903.0       8402.0          NaN   \n",
       "\n",
       "  keterlibatan_vltr  jml_vltr_terlibat  tahun    skema luaran_hki  \\\n",
       "0             TIDAK                  0   2019  REGULER  TIDAK ADA   \n",
       "1             TIDAK                  0   2019  REGULER  TIDAK ADA   \n",
       "2             TIDAK                  0   2019  REGULER  TIDAK ADA   \n",
       "3             TIDAK                  0   2019  REGULER  TIDAK ADA   \n",
       "4             TIDAK                  0   2019  REGULER  TIDAK ADA   \n",
       "\n",
       "  jenis_luaran_hki potensi_hki luaran_lain jenis_luaran_lain  \\\n",
       "0        TIDAK ADA       TIDAK   TIDAK ADA         TIDAK ADA   \n",
       "1        TIDAK ADA       TIDAK   TIDAK ADA         TIDAK ADA   \n",
       "2        TIDAK ADA       TIDAK   TIDAK ADA         TIDAK ADA   \n",
       "3        TIDAK ADA       TIDAK   TIDAK ADA         TIDAK ADA   \n",
       "4        TIDAK ADA       TIDAK   TIDAK ADA         TIDAK ADA   \n",
       "\n",
       "  status_luaran_lain  \n",
       "0          TIDAK ADA  \n",
       "1          TIDAK ADA  \n",
       "2          TIDAK ADA  \n",
       "3          TIDAK ADA  \n",
       "4          TIDAK ADA  "
      ]
     },
     "execution_count": 2,
     "metadata": {},
     "output_type": "execute_result"
    }
   ],
   "source": [
    "#mempersiapkan data frame yang akan digunakan\n",
    "df = pd.read_csv('dataset_quiz.csv')\n",
    "df.head()"
   ]
  },
  {
   "cell_type": "code",
   "execution_count": 3,
   "metadata": {},
   "outputs": [
    {
     "data": {
      "text/plain": [
       "id_ketua               3\n",
       "id_anggota1            5\n",
       "id_anggota2            4\n",
       "id_anggota3            3\n",
       "id_anggota4           13\n",
       "id_anggota5           84\n",
       "keterlibatan_vltr      0\n",
       "jml_vltr_terlibat      0\n",
       "tahun                  0\n",
       "skema                  0\n",
       "luaran_hki             0\n",
       "jenis_luaran_hki       0\n",
       "potensi_hki            0\n",
       "luaran_lain            0\n",
       "jenis_luaran_lain      0\n",
       "status_luaran_lain     0\n",
       "dtype: int64"
      ]
     },
     "execution_count": 3,
     "metadata": {},
     "output_type": "execute_result"
    }
   ],
   "source": [
    "# Mengecek nilai null pada dataset quiz dengan bantuan sum()\n",
    "df.isnull().sum()"
   ]
  },
  {
   "cell_type": "code",
   "execution_count": 4,
   "metadata": {},
   "outputs": [
    {
     "data": {
      "text/plain": [
       "id_ketua              0\n",
       "id_anggota1           0\n",
       "id_anggota2           0\n",
       "id_anggota3           0\n",
       "id_anggota4           0\n",
       "id_anggota5           0\n",
       "keterlibatan_vltr     0\n",
       "jml_vltr_terlibat     0\n",
       "tahun                 0\n",
       "skema                 0\n",
       "luaran_hki            0\n",
       "jenis_luaran_hki      0\n",
       "potensi_hki           0\n",
       "luaran_lain           0\n",
       "jenis_luaran_lain     0\n",
       "status_luaran_lain    0\n",
       "dtype: int64"
      ]
     },
     "execution_count": 4,
     "metadata": {},
     "output_type": "execute_result"
    }
   ],
   "source": [
    "# MENGISI KOLOM NULL\n",
    "modus_ketua = df['id_ketua'].mode()[0]\n",
    "df['id_ketua'] = df['id_ketua'].fillna(modus_ketua)\n",
    "modus_anggota1 = df['id_anggota1'].mode()[0]\n",
    "df['id_anggota1'] = df['id_anggota1'].fillna(modus_anggota1)\n",
    "modus_anggota2 = df['id_anggota2'].mode()[0]\n",
    "df['id_anggota2'] = df['id_anggota2'].fillna(modus_anggota2)\n",
    "modus_anggota3 = df['id_anggota3'].mode()[0]\n",
    "df['id_anggota3'] = df['id_anggota3'].fillna(modus_anggota3)\n",
    "modus_anggota4 = df['id_anggota4'].mode()[0]\n",
    "df['id_anggota4'] = df['id_anggota4'].fillna(modus_anggota4)\n",
    "modus_anggota5 = df['id_anggota5'].mode()[0]\n",
    "df['id_anggota5'] = df['id_anggota5'].fillna(modus_anggota5)\n",
    "# MENGECEK KEMBALI KOLOM NULL APAKAH SUDAH TERISI ATAU BELUM\n",
    "df.isnull().sum()"
   ]
  },
  {
   "cell_type": "markdown",
   "metadata": {},
   "source": [
    "SOAL\n",
    "1. Buat 5 jenis visualisasi yang dapat dihasilkan dari dataset yang diberikan! (5 poin)"
   ]
  },
  {
   "cell_type": "code",
   "execution_count": 5,
   "metadata": {},
   "outputs": [
    {
     "data": {
      "image/png": "[encoded data removed]",
      "text/plain": [
       "<Figure size 640x480 with 1 Axes>"
      ]
     },
     "metadata": {},
     "output_type": "display_data"
    }
   ],
   "source": [
    "# JENIS VISUALISASI KE-1 (BAR PLOT)\n",
    "import seaborn as sns\n",
    "\n",
    "bp = sns.barplot(x ='tahun', y = 'jml_vltr_terlibat', data=df)\n",
    "plt.xlabel('Tahun', size=12)\n",
    "plt.ylabel('Jumlah volunteer terlibat', size=12)\n",
    "plt.show()"
   ]
  },
  {
   "cell_type": "code",
   "execution_count": 6,
   "metadata": {},
   "outputs": [
    {
     "data": {
      "image/png": "[encoded data removed]",
      "text/plain": [
       "<Figure size 640x480 with 1 Axes>"
      ]
     },
     "metadata": {},
     "output_type": "display_data"
    }
   ],
   "source": [
    "# JENIS VISUALISASI KE-2 (HISTOGRAM)\n",
    "\n",
    "df['skema'].hist()\n",
    "plt.xlabel('Jenis Skema', size=12)\n",
    "plt.ylabel('Jumlah', size=12)\n",
    "sns.set()"
   ]
  },
  {
   "cell_type": "code",
   "execution_count": 7,
   "metadata": {},
   "outputs": [
    {
     "data": {
      "image/png": "[encoded data removed]",
      "text/plain": [
       "<Figure size 640x480 with 1 Axes>"
      ]
     },
     "metadata": {},
     "output_type": "display_data"
    }
   ],
   "source": [
    "# JENIS VISUALISASI KE-3 (LINE PLOT)\n",
    "plt.style.use('seaborn-ticks')\n",
    "\n",
    "x = df['tahun'].unique()\n",
    "y = df.groupby('tahun')['jml_vltr_terlibat'].sum()\n",
    "plt.title('Jumlah Volunteer yang Terlibat Setiap Tahun', size=14)\n",
    "plt.ylabel('\\nJumlah Volunteer', size=12)\n",
    "plt.xlabel('\\nTahun', size=12)\n",
    "plt.plot(x, y)\n",
    "plt.show()"
   ]
  },
  {
   "cell_type": "code",
   "execution_count": 8,
   "metadata": {},
   "outputs": [
    {
     "data": {
      "image/png": "[encoded data removed]",
      "text/plain": [
       "<Figure size 640x480 with 1 Axes>"
      ]
     },
     "metadata": {},
     "output_type": "display_data"
    }
   ],
   "source": [
    "# JENIS VISUALISASI KE-4 (PIE CHART)\n",
    "\n",
    "plt.style.use('seaborn-ticks')\n",
    "data = df.groupby(['potensi_hki'])['potensi_hki'].count()\n",
    "labels = df['potensi_hki'].unique()\n",
    "labels.sort()\n",
    "plt.pie(data, labels=labels, autopct='%1.2f%%')\n",
    "plt.title('Jenis Potensi HKI', size=14)\n",
    "plt.show()"
   ]
  },
  {
   "cell_type": "code",
   "execution_count": 9,
   "metadata": {},
   "outputs": [
    {
     "data": {
      "text/plain": [
       "<AxesSubplot:title={'center':'Jenis Iuaran Lain'}, ylabel='jenis_luaran_lain'>"
      ]
     },
     "execution_count": 9,
     "metadata": {},
     "output_type": "execute_result"
    },
    {
     "data": {
      "image/png": "[encoded data removed]",
      "text/plain": [
       "<Figure size 640x480 with 1 Axes>"
      ]
     },
     "metadata": {},
     "output_type": "display_data"
    }
   ],
   "source": [
    "# JENIS VISUALISASI KE-4 (Bar Chart Horizontal)\n",
    "df.groupby(['jenis_luaran_lain']).size().plot(\n",
    "    kind='barh', title='Jenis Iuaran Lain')"
   ]
  },
  {
   "cell_type": "markdown",
   "metadata": {},
   "source": [
    "2. Lakukan pemilahan data training dan testing yang sesuai dan proporsional dari data tersebut! (5 poin)"
   ]
  },
  {
   "cell_type": "code",
   "execution_count": 10,
   "metadata": {},
   "outputs": [
    {
     "data": {
      "text/html": [
       "<div>\n",
       "<style scoped>\n",
       "    .dataframe tbody tr th:only-of-type {\n",
       "        vertical-align: middle;\n",
       "    }\n",
       "\n",
       "    .dataframe tbody tr th {\n",
       "        vertical-align: top;\n",
       "    }\n",
       "\n",
       "    .dataframe thead th {\n",
       "        text-align: right;\n",
       "    }\n",
       "</style>\n",
       "<table border=\"1\" class=\"dataframe\">\n",
       "  <thead>\n",
       "    <tr style=\"text-align: right;\">\n",
       "      <th></th>\n",
       "      <th>id_ketua</th>\n",
       "      <th>id_anggota1</th>\n",
       "      <th>id_anggota2</th>\n",
       "      <th>id_anggota3</th>\n",
       "      <th>id_anggota4</th>\n",
       "      <th>id_anggota5</th>\n",
       "      <th>keterlibatan_vltr</th>\n",
       "      <th>jml_vltr_terlibat</th>\n",
       "      <th>tahun</th>\n",
       "      <th>skema</th>\n",
       "      <th>luaran_hki</th>\n",
       "      <th>jenis_luaran_hki</th>\n",
       "      <th>potensi_hki</th>\n",
       "      <th>luaran_lain</th>\n",
       "      <th>jenis_luaran_lain</th>\n",
       "      <th>status_luaran_lain</th>\n",
       "    </tr>\n",
       "  </thead>\n",
       "  <tbody>\n",
       "    <tr>\n",
       "      <th>0</th>\n",
       "      <td>7206.0</td>\n",
       "      <td>7214.0</td>\n",
       "      <td>6211.0</td>\n",
       "      <td>8602.0</td>\n",
       "      <td>7801.0</td>\n",
       "      <td>8812.0</td>\n",
       "      <td>0</td>\n",
       "      <td>0</td>\n",
       "      <td>2019</td>\n",
       "      <td>1</td>\n",
       "      <td>1</td>\n",
       "      <td>1</td>\n",
       "      <td>2</td>\n",
       "      <td>0</td>\n",
       "      <td>3</td>\n",
       "      <td>1</td>\n",
       "    </tr>\n",
       "    <tr>\n",
       "      <th>1</th>\n",
       "      <td>7214.0</td>\n",
       "      <td>7109.0</td>\n",
       "      <td>8402.0</td>\n",
       "      <td>7903.0</td>\n",
       "      <td>9202.0</td>\n",
       "      <td>8812.0</td>\n",
       "      <td>0</td>\n",
       "      <td>0</td>\n",
       "      <td>2019</td>\n",
       "      <td>1</td>\n",
       "      <td>1</td>\n",
       "      <td>1</td>\n",
       "      <td>2</td>\n",
       "      <td>0</td>\n",
       "      <td>3</td>\n",
       "      <td>1</td>\n",
       "    </tr>\n",
       "    <tr>\n",
       "      <th>2</th>\n",
       "      <td>5911.0</td>\n",
       "      <td>8201.0</td>\n",
       "      <td>8701.0</td>\n",
       "      <td>9101.0</td>\n",
       "      <td>9003.0</td>\n",
       "      <td>8812.0</td>\n",
       "      <td>0</td>\n",
       "      <td>0</td>\n",
       "      <td>2019</td>\n",
       "      <td>1</td>\n",
       "      <td>1</td>\n",
       "      <td>1</td>\n",
       "      <td>2</td>\n",
       "      <td>0</td>\n",
       "      <td>3</td>\n",
       "      <td>1</td>\n",
       "    </tr>\n",
       "    <tr>\n",
       "      <th>3</th>\n",
       "      <td>8402.0</td>\n",
       "      <td>7702.0</td>\n",
       "      <td>8602.0</td>\n",
       "      <td>8903.0</td>\n",
       "      <td>8903.0</td>\n",
       "      <td>8812.0</td>\n",
       "      <td>0</td>\n",
       "      <td>0</td>\n",
       "      <td>2019</td>\n",
       "      <td>1</td>\n",
       "      <td>1</td>\n",
       "      <td>1</td>\n",
       "      <td>2</td>\n",
       "      <td>0</td>\n",
       "      <td>3</td>\n",
       "      <td>1</td>\n",
       "    </tr>\n",
       "    <tr>\n",
       "      <th>4</th>\n",
       "      <td>8201.0</td>\n",
       "      <td>8305.0</td>\n",
       "      <td>5911.0</td>\n",
       "      <td>5903.0</td>\n",
       "      <td>8402.0</td>\n",
       "      <td>8812.0</td>\n",
       "      <td>0</td>\n",
       "      <td>0</td>\n",
       "      <td>2019</td>\n",
       "      <td>1</td>\n",
       "      <td>1</td>\n",
       "      <td>1</td>\n",
       "      <td>2</td>\n",
       "      <td>0</td>\n",
       "      <td>3</td>\n",
       "      <td>1</td>\n",
       "    </tr>\n",
       "  </tbody>\n",
       "</table>\n",
       "</div>"
      ],
      "text/plain": [
       "   id_ketua  id_anggota1  id_anggota2  id_anggota3  id_anggota4  id_anggota5  \\\n",
       "0    7206.0       7214.0       6211.0       8602.0       7801.0       8812.0   \n",
       "1    7214.0       7109.0       8402.0       7903.0       9202.0       8812.0   \n",
       "2    5911.0       8201.0       8701.0       9101.0       9003.0       8812.0   \n",
       "3    8402.0       7702.0       8602.0       8903.0       8903.0       8812.0   \n",
       "4    8201.0       8305.0       5911.0       5903.0       8402.0       8812.0   \n",
       "\n",
       "   keterlibatan_vltr  jml_vltr_terlibat  tahun  skema  luaran_hki  \\\n",
       "0                  0                  0   2019      1           1   \n",
       "1                  0                  0   2019      1           1   \n",
       "2                  0                  0   2019      1           1   \n",
       "3                  0                  0   2019      1           1   \n",
       "4                  0                  0   2019      1           1   \n",
       "\n",
       "   jenis_luaran_hki  potensi_hki  luaran_lain  jenis_luaran_lain  \\\n",
       "0                 1            2            0                  3   \n",
       "1                 1            2            0                  3   \n",
       "2                 1            2            0                  3   \n",
       "3                 1            2            0                  3   \n",
       "4                 1            2            0                  3   \n",
       "\n",
       "   status_luaran_lain  \n",
       "0                   1  \n",
       "1                   1  \n",
       "2                   1  \n",
       "3                   1  \n",
       "4                   1  "
      ]
     },
     "execution_count": 10,
     "metadata": {},
     "output_type": "execute_result"
    }
   ],
   "source": [
    "from sklearn.preprocessing import LabelEncoder\n",
    "encode = LabelEncoder()\n",
    "df['keterlibatan_vltr'] = encode.fit_transform(df['keterlibatan_vltr'])\n",
    "df['skema'] = encode.fit_transform(df['skema'])\n",
    "df['luaran_hki'] = encode.fit_transform(df['luaran_hki'])\n",
    "df['jenis_luaran_hki'] = encode.fit_transform(df['jenis_luaran_hki'])\n",
    "df['potensi_hki'] = encode.fit_transform(df['potensi_hki'])\n",
    "df['luaran_lain'] = encode.fit_transform(df['luaran_lain'])\n",
    "df['jenis_luaran_lain'] = encode.fit_transform(df['jenis_luaran_lain'])\n",
    "df['status_luaran_lain'] = encode.fit_transform(df['status_luaran_lain'])\n",
    "df.head()"
   ]
  },
  {
   "cell_type": "code",
   "execution_count": 11,
   "metadata": {},
   "outputs": [
    {
     "data": {
      "text/plain": [
       "(85, 15)"
      ]
     },
     "execution_count": 11,
     "metadata": {},
     "output_type": "execute_result"
    }
   ],
   "source": [
    "#Slice Dataframe\n",
    "x = df.drop('keterlibatan_vltr', axis='columns')\n",
    "y = df['keterlibatan_vltr']\n",
    "\n",
    "#Cek jumlah fitur dan instance\n",
    "x.shape"
   ]
  },
  {
   "cell_type": "code",
   "execution_count": 12,
   "metadata": {},
   "outputs": [],
   "source": [
    "#Splitting Data\n",
    "from sklearn.model_selection import train_test_split\n",
    "\n",
    "#Data main akan dipisahkan menjadi data train dan data validation \n",
    "x_main,x_test,y_main,y_test=train_test_split(x,y,test_size=0.1,stratify=y)\n",
    "\n",
    "x_train,x_val,y_train,y_val=train_test_split(x_main,y_main,test_size=0.1,stratify=y_main)"
   ]
  },
  {
   "cell_type": "markdown",
   "metadata": {},
   "source": [
    "3. Tentukan data validasi! (5 poin)"
   ]
  },
  {
   "cell_type": "code",
   "execution_count": 13,
   "metadata": {},
   "outputs": [
    {
     "data": {
      "text/plain": [
       "(85, 10)"
      ]
     },
     "execution_count": 13,
     "metadata": {},
     "output_type": "execute_result"
    }
   ],
   "source": [
    "# Seleksi Fitur\n",
    "X = df.iloc[:, 6:]\n",
    "y = df['keterlibatan_vltr']\n",
    "\n",
    "# Cek jumlah fitur dan instance\n",
    "X.shape"
   ]
  },
  {
   "cell_type": "code",
   "execution_count": 14,
   "metadata": {},
   "outputs": [],
   "source": [
    "# Split data training dan testing\n",
    "from sklearn.model_selection import train_test_split\n",
    "\n",
    "X_train, X_test, y_train, y_test = train_test_split(X, y, test_size=0.2, random_state=1)"
   ]
  },
  {
   "cell_type": "markdown",
   "metadata": {},
   "source": [
    "4. Terapkan dua jenis metode klasifikasi dan lakukan perbandingan akurasi  dengan wajib melibatkan variabel keterlibatan volunteer sampai variabel luaran-luaran yang dihasilkan! (20 poin)"
   ]
  },
  {
   "cell_type": "code",
   "execution_count": 15,
   "metadata": {},
   "outputs": [
    {
     "name": "stdout",
     "output_type": "stream",
     "text": [
      "Test set accuracy: 1.00\n",
      "Test set accuracy: 1.0\n"
     ]
    }
   ],
   "source": [
    "# METODE KLASIFIKASI RANDOM FOREST\n",
    "\n",
    "from sklearn.tree import DecisionTreeClassifier \n",
    "from sklearn.metrics import accuracy_score, classification_report\n",
    "from sklearn.ensemble import RandomForestClassifier \n",
    "rf = RandomForestClassifier()\n",
    "rf.fit(X_train, y_train)\n",
    "y_pred_rf = rf.predict(X_test)\n",
    "acc_rf = accuracy_score(y_test, y_pred_rf)\n",
    "print(\"Test set accuracy: {:.2f}\".format(acc_rf))\n",
    "print(f\"Test set accuracy: {acc_rf}\")"
   ]
  },
  {
   "cell_type": "code",
   "execution_count": 16,
   "metadata": {},
   "outputs": [
    {
     "name": "stdout",
     "output_type": "stream",
     "text": [
      "Test set accuracy: 1.00\n",
      "Test set accuracy: 1.0\n"
     ]
    }
   ],
   "source": [
    "# METODE KLASIFIKASI DECISSION TREE\n",
    "\n",
    "dt = DecisionTreeClassifier()\n",
    "dt.fit(X_train, y_train)\n",
    "y_pred_dt = dt.predict(X_test)\n",
    "acc_dt = accuracy_score(y_test, y_pred_dt)\n",
    "print(\"Test set accuracy: {:.2f}\".format(acc_dt))\n",
    "print(f\"Test set accuracy: {acc_dt}\")"
   ]
  },
  {
   "cell_type": "markdown",
   "metadata": {},
   "source": [
    "5. Terapkan sebuah metode prediksi (berdasarkan tahun, misal: jumlah kegiatan pada tahun tertentu sebagai x dan jumlah  luaran sebagai y) serta hitung akurasinya dengan wajib melibatkan variabel keterlibatan volunteer sampai variabel luaran-luaran yang dihasilkan! (20 poin)"
   ]
  },
  {
   "cell_type": "code",
   "execution_count": 17,
   "metadata": {},
   "outputs": [
    {
     "name": "stdout",
     "output_type": "stream",
     "text": [
      "    id_ketua  id_anggota1  id_anggota2  id_anggota3  id_anggota4  id_anggota5  \\\n",
      "0     7206.0       7214.0       6211.0       8602.0       7801.0       8812.0   \n",
      "1     7214.0       7109.0       8402.0       7903.0       9202.0       8812.0   \n",
      "2     5911.0       8201.0       8701.0       9101.0       9003.0       8812.0   \n",
      "3     8402.0       7702.0       8602.0       8903.0       8903.0       8812.0   \n",
      "4     8201.0       8305.0       5911.0       5903.0       8402.0       8812.0   \n",
      "..       ...          ...          ...          ...          ...          ...   \n",
      "80    8803.0       8804.0       9102.0       8005.0       9303.0       8812.0   \n",
      "81    6211.0       8901.0       9003.0       9303.0       9007.0       8812.0   \n",
      "82    8601.0       8903.0       8703.0       8602.0       8901.0       8812.0   \n",
      "83    8703.0       8601.0       9202.0       9102.0       6204.0       8812.0   \n",
      "84    8102.0       7109.0       5903.0       7206.0       8903.0       8812.0   \n",
      "\n",
      "    keterlibatan_vltr  jml_vltr_terlibat  tahun  skema  luaran_hki  \\\n",
      "0                   0                  0   2019      1           1   \n",
      "1                   0                  0   2019      1           1   \n",
      "2                   0                  0   2019      1           1   \n",
      "3                   0                  0   2019      1           1   \n",
      "4                   0                  0   2019      1           1   \n",
      "..                ...                ...    ...    ...         ...   \n",
      "80                  1                  3   2022      1           1   \n",
      "81                  1                  3   2022      1           1   \n",
      "82                  1                  3   2022      1           1   \n",
      "83                  1                  3   2022      1           1   \n",
      "84                  0                  0   2022      1           1   \n",
      "\n",
      "    jenis_luaran_hki  potensi_hki  luaran_lain  jenis_luaran_lain  \\\n",
      "0                  1            2            0                  3   \n",
      "1                  1            2            0                  3   \n",
      "2                  1            2            0                  3   \n",
      "3                  1            2            0                  3   \n",
      "4                  1            2            0                  3   \n",
      "..               ...          ...          ...                ...   \n",
      "80                 1            2            0                  3   \n",
      "81                 1            2            0                  3   \n",
      "82                 1            2            0                  3   \n",
      "83                 1            2            0                  3   \n",
      "84                 1            2            0                  3   \n",
      "\n",
      "    status_luaran_lain  Luaran  \n",
      "0                    1       0  \n",
      "1                    1       0  \n",
      "2                    1       0  \n",
      "3                    1       0  \n",
      "4                    1       0  \n",
      "..                 ...     ...  \n",
      "80                   1       0  \n",
      "81                   1       0  \n",
      "82                   1       0  \n",
      "83                   1       0  \n",
      "84                   1       0  \n",
      "\n",
      "[85 rows x 17 columns]\n"
     ]
    }
   ],
   "source": [
    "def Luaran(row):  \n",
    "    if row['tahun'] == 2020 :\n",
    "        return 1\n",
    "    else:\n",
    "        return 0\n",
    "\n",
    "df['Luaran'] = df.apply(lambda row: Luaran(row), axis=1)\n",
    "\n",
    "print(df)"
   ]
  },
  {
   "cell_type": "code",
   "execution_count": 18,
   "metadata": {},
   "outputs": [
    {
     "name": "stdout",
     "output_type": "stream",
     "text": [
      "              precision    recall  f1-score   support\n",
      "\n",
      "           0       0.76      1.00      0.87        13\n",
      "           1       0.00      0.00      0.00         4\n",
      "\n",
      "    accuracy                           0.76        17\n",
      "   macro avg       0.38      0.50      0.43        17\n",
      "weighted avg       0.58      0.76      0.66        17\n",
      "\n"
     ]
    },
    {
     "name": "stderr",
     "output_type": "stream",
     "text": [
      "c:\\Users\\WINDOWS 10\\AppData\\Local\\Programs\\Python\\Python310\\lib\\site-packages\\sklearn\\metrics\\_classification.py:1334: UndefinedMetricWarning: Precision and F-score are ill-defined and being set to 0.0 in labels with no predicted samples. Use `zero_division` parameter to control this behavior.\n",
      "  _warn_prf(average, modifier, msg_start, len(result))\n",
      "c:\\Users\\WINDOWS 10\\AppData\\Local\\Programs\\Python\\Python310\\lib\\site-packages\\sklearn\\metrics\\_classification.py:1334: UndefinedMetricWarning: Precision and F-score are ill-defined and being set to 0.0 in labels with no predicted samples. Use `zero_division` parameter to control this behavior.\n",
      "  _warn_prf(average, modifier, msg_start, len(result))\n",
      "c:\\Users\\WINDOWS 10\\AppData\\Local\\Programs\\Python\\Python310\\lib\\site-packages\\sklearn\\metrics\\_classification.py:1334: UndefinedMetricWarning: Precision and F-score are ill-defined and being set to 0.0 in labels with no predicted samples. Use `zero_division` parameter to control this behavior.\n",
      "  _warn_prf(average, modifier, msg_start, len(result))\n"
     ]
    }
   ],
   "source": [
    "from sklearn.svm import SVC\n",
    "x = df[['skema']]\n",
    "y = df['Luaran']\n",
    "# Split data training dan testing\n",
    "from sklearn.model_selection import train_test_split\n",
    "\n",
    "X_train, X_test, y_train, y_test = train_test_split(X, y, test_size=0.2, random_state=1)\n",
    "\n",
    "# Model SVM RBF tanpa tunning hyperparameter\n",
    "svm_rbf = SVC(kernel='rbf')\n",
    "\n",
    "# Fit ke model\n",
    "svm_rbf.fit(X_train, y_train)\n",
    "\n",
    "# Prediksi\n",
    "y_pred_svm_rbf = svm_rbf.predict(X_test)\n",
    "\n",
    "# Evaluasi akurasi testing data\n",
    "acc_svm_rbf = accuracy_score(y_test, y_pred_svm_rbf)\n",
    "\n",
    "# Print hasil classification report\n",
    "print(classification_report(y_test, y_pred_svm_rbf))"
   ]
  },
  {
   "cell_type": "markdown",
   "metadata": {},
   "source": [
    "6. Buat Confusion Matrix dan ROC berdasarkan klasifikasi yang diterapkan pada nomor 4! (15 poin)"
   ]
  },
  {
   "cell_type": "code",
   "execution_count": 19,
   "metadata": {},
   "outputs": [
    {
     "data": {
      "text/plain": [
       "(85, 11)"
      ]
     },
     "execution_count": 19,
     "metadata": {},
     "output_type": "execute_result"
    }
   ],
   "source": [
    "# PADA KLASIFIKASI DECISSION TREE\n",
    "\n",
    "# Seleksi Fitur\n",
    "X = df.iloc[:, 6:]\n",
    "y = df['keterlibatan_vltr']\n",
    "\n",
    "# Cek jumlah fitur dan instance\n",
    "X.shape"
   ]
  },
  {
   "cell_type": "code",
   "execution_count": 20,
   "metadata": {},
   "outputs": [],
   "source": [
    "# Split data training dan testing\n",
    "from sklearn.model_selection import train_test_split\n",
    "\n",
    "X_train, X_test, y_train, y_test = train_test_split(X, y, test_size=0.2, random_state=1)\n",
    "# Training and Predicting Data\n",
    "classifier = DecisionTreeClassifier()\n",
    "classifier.fit(X_train, y_train)\n",
    "\n",
    "y_preds = classifier.predict(X_test)\n",
    "y_proba = classifier.predict_proba(X_test)"
   ]
  },
  {
   "cell_type": "code",
   "execution_count": 21,
   "metadata": {},
   "outputs": [
    {
     "data": {
      "text/plain": [
       "array([[8, 0],\n",
       "       [0, 9]], dtype=int64)"
      ]
     },
     "execution_count": 21,
     "metadata": {},
     "output_type": "execute_result"
    }
   ],
   "source": [
    "# CONFUSION MATRIX\n",
    "from sklearn import metrics\n",
    "\n",
    "conf = metrics.confusion_matrix(y_test, y_preds)\n",
    "conf"
   ]
  },
  {
   "cell_type": "code",
   "execution_count": 22,
   "metadata": {},
   "outputs": [
    {
     "data": {
      "text/plain": [
       "array([[8, 0],\n",
       "       [0, 9]])"
      ]
     },
     "execution_count": 22,
     "metadata": {},
     "output_type": "execute_result"
    }
   ],
   "source": [
    "def get_confusion_matrix(y_true, y_pred):\n",
    "    n_classes = len(np.unique(y_true))\n",
    "    conf = np.zeros((n_classes, n_classes))\n",
    "    for actual, pred in zip(y_true, y_pred):\n",
    "        conf[int(actual)][int(pred)] += 1\n",
    "    return conf.astype('int')\n",
    "\n",
    "conf = get_confusion_matrix(y_test, y_preds)\n",
    "conf"
   ]
  },
  {
   "cell_type": "code",
   "execution_count": 23,
   "metadata": {},
   "outputs": [
    {
     "data": {
      "text/plain": [
       "Text(0.5, 20.049999999999997, 'Predicted label')"
      ]
     },
     "execution_count": 23,
     "metadata": {},
     "output_type": "execute_result"
    },
    {
     "data": {
      "image/png": "[encoded data removed]",
      "text/plain": [
       "<Figure size 640x480 with 2 Axes>"
      ]
     },
     "metadata": {},
     "output_type": "display_data"
    }
   ],
   "source": [
    "import itertools\n",
    "\n",
    "classes = [0, 1]\n",
    "\n",
    "plt.imshow(conf, interpolation='nearest', cmap=plt.cm.Purples)\n",
    "plt.title(\"Confusion Matrix\")\n",
    "plt.colorbar()\n",
    "tick_marks = np.arange(len(classes))\n",
    "plt.xticks(tick_marks, classes)\n",
    "plt.yticks(tick_marks, classes)\n",
    "\n",
    "fmt = 'd'\n",
    "thresh = conf.max() / 2.\n",
    "for i, j in itertools.product(range(conf.shape[0]), range(conf.shape[1])):\n",
    "    plt.text(j, i, format(conf[i, j], fmt),\n",
    "             horizontalalignment=\"center\",\n",
    "             color=\"white\" if conf[i, j] > thresh else \"black\")\n",
    "\n",
    "plt.tight_layout()\n",
    "plt.ylabel('True label')\n",
    "plt.xlabel('Predicted label')"
   ]
  },
  {
   "cell_type": "code",
   "execution_count": 24,
   "metadata": {},
   "outputs": [
    {
     "name": "stdout",
     "output_type": "stream",
     "text": [
      "Accuracy :  1.000\n",
      "Precision :  1.000\n",
      "Recall :  1.000\n",
      "Matthews correlation coefficient :  1.000\n"
     ]
    }
   ],
   "source": [
    "TP = true_pos = 9\n",
    "TN = true_neg = 8\n",
    "FP = false_pos = 0\n",
    "FN = false_neg = 0\n",
    "results = {}\n",
    "# MENGHITUNG AKURASI\n",
    "metric = \"Accuracy\"\n",
    "results[metric] = (TP + TN) / (TP + TN + FP + FN)\n",
    "print(f\"{metric} : {results[metric]: .3f}\")\n",
    "\n",
    "# MENGHTUNG PRESISI\n",
    "metric = \"Precision\"\n",
    "results[metric] = TP / (TP + FP)\n",
    "print(f\"{metric} : {results[metric]: .3f}\")\n",
    "\n",
    "# MENGHITUNG RECALL\n",
    "metric = \"Recall\"\n",
    "results[metric] = TP / (TP + FN)\n",
    "print(f\"{metric} : {results[metric]: .3f}\")\n",
    "\n",
    "# MENGHITUNG MATTHEW CORRELATION COEFFICIENT\n",
    "metric = \"Matthews correlation coefficient\"\n",
    "num = TP * TN - FP * FN\n",
    "den = ((TP + FP) * (TP + FN) * (TN + FP) * (TN + FN)) ** 0.5\n",
    "results[metric] = num / den\n",
    "print(f\"{metric} : {results[metric]: .3f}\")"
   ]
  },
  {
   "cell_type": "code",
   "execution_count": 25,
   "metadata": {},
   "outputs": [
    {
     "data": {
      "image/png": "[encoded data removed]",
      "text/plain": [
       "<Figure size 400x400 with 1 Axes>"
      ]
     },
     "metadata": {},
     "output_type": "display_data"
    }
   ],
   "source": [
    "# ROC CURVE\n",
    "\n",
    "from sklearn.metrics import roc_curve, roc_auc_score\n",
    "y_proba = classifier.predict_proba(X_test)[:,1]\n",
    "false_positive_rate, true_positive_rate,threshold = roc_curve(y_test, y_proba)\n",
    "plt.subplots(1, figsize=(4,4))\n",
    "plt.title('Receiver Operating Characteristic')\n",
    "plt.plot(false_positive_rate, true_positive_rate)\n",
    "plt.plot([0, 1], ls=\"--\")\n",
    "plt.plot([0, 0], [1, 0] , c=\".7\"), plt.plot([1, 1] , c=\".7\")\n",
    "plt.ylabel('True Positive Rate')\n",
    "plt.xlabel('False Positive Rate')\n",
    "plt.show()"
   ]
  },
  {
   "cell_type": "code",
   "execution_count": 26,
   "metadata": {},
   "outputs": [
    {
     "name": "stdout",
     "output_type": "stream",
     "text": [
      "Scikit's ROC-AUC score of SVC model is  1.0000\n",
      "roc_auc_score :  1.0\n"
     ]
    }
   ],
   "source": [
    "# ROC-AUC SCORE\n",
    "\n",
    "auc_score = metrics.roc_auc_score(y_test, y_proba)\n",
    "print(f\"Scikit's ROC-AUC score of SVC model is {auc_score: .4f}\")\n",
    "\n",
    "print('roc_auc_score : ', roc_auc_score(y_test, y_proba))"
   ]
  },
  {
   "cell_type": "markdown",
   "metadata": {},
   "source": [
    "7. Lakukan hyperparameter tunning berdasarkan jawaban nomor 2, 3, dan 4 menggunakan metode Grid Search, Random Search, dan Exhausive Search! (20 poin)"
   ]
  },
  {
   "cell_type": "code",
   "execution_count": 27,
   "metadata": {},
   "outputs": [],
   "source": [
    "from sklearn.model_selection import RepeatedKFold\n",
    "\n",
    "# inisiasi repated k-fold\n",
    "cv = RepeatedKFold(n_splits=4, n_repeats=3, random_state=42)"
   ]
  },
  {
   "cell_type": "code",
   "execution_count": 28,
   "metadata": {},
   "outputs": [
    {
     "name": "stdout",
     "output_type": "stream",
     "text": [
      "583 ms ± 12.2 ms per loop (mean ± std. dev. of 7 runs, 1 loop each)\n",
      "Hasil evaluasi: 1.0\n",
      "Konfigurasi hyperparameter: {'criterion': 'gini', 'max_depth': 5}\n"
     ]
    }
   ],
   "source": [
    "# GRID SEARCH MENGGUNAKAN DECISSION TREE\n",
    "\n",
    "from sklearn.tree import DecisionTreeClassifier\n",
    "from sklearn.model_selection import GridSearchCV\n",
    "\n",
    "dt = DecisionTreeClassifier()\n",
    "\n",
    "params = {\n",
    "    'criterion': ['gini', 'entropy'],\n",
    "    'max_depth': list(range(5,11))\n",
    "}\n",
    "\n",
    "grid = GridSearchCV(dt, param_grid=params, cv=cv)\n",
    "\n",
    "%timeit grid.fit(X, y)\n",
    "\n",
    "score = grid.score(X,y)\n",
    "\n",
    "print(f'Hasil evaluasi: {score}')\n",
    "print(f'Konfigurasi hyperparameter: {grid.best_params_}')"
   ]
  },
  {
   "cell_type": "code",
   "execution_count": 29,
   "metadata": {},
   "outputs": [
    {
     "name": "stdout",
     "output_type": "stream",
     "text": [
      "487 ms ± 10.9 ms per loop (mean ± std. dev. of 7 runs, 1 loop each)\n",
      "Hasil evaluasi: 1.0\n",
      "Konfigurasi hyperparameter: {'max_depth': 10, 'criterion': 'entropy'}\n",
      "Score terbaik: 1.0\n"
     ]
    }
   ],
   "source": [
    "# RANDOM SEARCH MENGGUNAKAN DECISSION TREE\n",
    "\n",
    "from sklearn.tree import DecisionTreeClassifier\n",
    "from sklearn.model_selection import RandomizedSearchCV\n",
    "\n",
    "dt = DecisionTreeClassifier()\n",
    "\n",
    "rs_space = {\n",
    "    'criterion': ['gini', 'entropy'],\n",
    "    'max_depth': list(range(5,11))\n",
    "}\n",
    "\n",
    "random = RandomizedSearchCV(dt, rs_space, cv=cv, scoring='accuracy')\n",
    "\n",
    "%timeit random.fit(X, y)\n",
    "\n",
    "score = random.score(X,y)\n",
    "\n",
    "print(f'Hasil evaluasi: {score}')\n",
    "print(f'Konfigurasi hyperparameter: {random.best_params_}')\n",
    "print('Score terbaik: '+str(random.best_score_))"
   ]
  },
  {
   "cell_type": "code",
   "execution_count": 30,
   "metadata": {},
   "outputs": [
    {
     "name": "stdout",
     "output_type": "stream",
     "text": [
      "1.46 ms ± 37.1 µs per loop (mean ± std. dev. of 7 runs, 1,000 loops each)\n",
      "Hasil evaluasi: 1.0\n"
     ]
    }
   ],
   "source": [
    "# Exhausive Search menggunakan Decission Tree\n",
    "model_dt_manual = DecisionTreeClassifier(criterion='entropy', max_depth=8, max_leaf_nodes=10)\n",
    "\n",
    "%timeit model_dt_manual.fit(X, y)\n",
    "\n",
    "# Evaluasi dengan score\n",
    "score = model_dt_manual.score(X,y)\n",
    "\n",
    "print(f'Hasil evaluasi: {score}')"
   ]
  },
  {
   "cell_type": "code",
   "execution_count": 31,
   "metadata": {},
   "outputs": [
    {
     "name": "stdout",
     "output_type": "stream",
     "text": [
      "21.5 s ± 653 ms per loop (mean ± std. dev. of 7 runs, 1 loop each)\n",
      "Hasil evaluasi: 1.0\n",
      "Konfigurasi hyperparameter: {'criterion': 'entropy', 'max_depth': 6}\n"
     ]
    }
   ],
   "source": [
    "# GRID SEARCH MENGGUNAKAN RANDOM FOREST\n",
    "\n",
    "from sklearn.ensemble import RandomForestClassifier\n",
    "from sklearn.model_selection import GridSearchCV\n",
    "\n",
    "rf = RandomForestClassifier()\n",
    "\n",
    "params = {\n",
    "    'criterion': ['gini', 'entropy'],\n",
    "    'max_depth': list(range(5,11))\n",
    "}\n",
    "\n",
    "grid = GridSearchCV(rf, param_grid=params, cv=cv)\n",
    "\n",
    "%timeit grid.fit(X, y)\n",
    "\n",
    "score = grid.score(X,y)\n",
    "\n",
    "print(f'Hasil evaluasi: {score}')\n",
    "print(f'Konfigurasi hyperparameter: {grid.best_params_}')"
   ]
  },
  {
   "cell_type": "code",
   "execution_count": 32,
   "metadata": {},
   "outputs": [
    {
     "name": "stdout",
     "output_type": "stream",
     "text": [
      "505 ms ± 45.7 ms per loop (mean ± std. dev. of 7 runs, 1 loop each)\n",
      "Hasil evaluasi: 1.0\n",
      "Konfigurasi hyperparameter: {'max_depth': 6, 'criterion': 'gini'}\n",
      "Score terbaik: 0.996031746031746\n"
     ]
    }
   ],
   "source": [
    "# RANDOM SEARCH MENGGUNAKAN DECISSION TREE\n",
    "\n",
    "from sklearn.tree import DecisionTreeClassifier\n",
    "from sklearn.model_selection import RandomizedSearchCV\n",
    "\n",
    "dt = DecisionTreeClassifier()\n",
    "\n",
    "rs_space = {\n",
    "    'criterion': ['gini', 'entropy'],\n",
    "    'max_depth': list(range(5,11))\n",
    "}\n",
    "\n",
    "random = RandomizedSearchCV(dt, rs_space, cv=cv, scoring='accuracy')\n",
    "\n",
    "%timeit random.fit(X, y)\n",
    "\n",
    "score = random.score(X,y)\n",
    "\n",
    "print(f'Hasil evaluasi: {score}')\n",
    "print(f'Konfigurasi hyperparameter: {random.best_params_}')\n",
    "print('Score terbaik: '+str(random.best_score_))"
   ]
  },
  {
   "cell_type": "code",
   "execution_count": 33,
   "metadata": {},
   "outputs": [
    {
     "name": "stdout",
     "output_type": "stream",
     "text": [
      "66.7 ms ± 2.11 ms per loop (mean ± std. dev. of 7 runs, 10 loops each)\n",
      "Hasil evaluasi: 0.9882352941176471\n"
     ]
    }
   ],
   "source": [
    "# Exhausive Search menggunakan Random Forest\n",
    "model_rf_manual = RandomForestClassifier(n_estimators=50, min_samples_split=5, min_samples_leaf=4, max_depth=20, bootstrap=True)\n",
    "%timeit model_rf_manual.fit(X, y)\n",
    "\n",
    "# Evaluasi dengan score\n",
    "score = model_rf_manual.score(X,y)\n",
    "\n",
    "print(f'Hasil evaluasi: {score}')"
   ]
  },
  {
   "cell_type": "markdown",
   "metadata": {},
   "source": [
    "8. Tambahkan visualisasi berdasarkan nomor 4 dan 5 (masing-masing nomor minimal satu visualisasi)! (10 poin)"
   ]
  },
  {
   "cell_type": "markdown",
   "metadata": {},
   "source": [
    "- Berdasarkan nomor 4"
   ]
  },
  {
   "cell_type": "code",
   "execution_count": 34,
   "metadata": {},
   "outputs": [
    {
     "name": "stdout",
     "output_type": "stream",
     "text": [
      "Test set accuracy: 1.00\n",
      "Test set accuracy: 1.0\n"
     ]
    },
    {
     "data": {
      "image/png": "[encoded data removed]",
      "text/plain": [
       "<Figure size 640x480 with 1 Axes>"
      ]
     },
     "metadata": {},
     "output_type": "display_data"
    }
   ],
   "source": [
    "# DECISSION TREE CLASSIFIER\n",
    "\n",
    "from sklearn.tree import DecisionTreeClassifier \n",
    "from sklearn.metrics import accuracy_score, classification_report\n",
    "\n",
    "dt = DecisionTreeClassifier()\n",
    "\n",
    "dt.fit(X_train, y_train)\n",
    "\n",
    "y_pred_dt = dt.predict(X_test)\n",
    "\n",
    "acc_dt = accuracy_score(y_test, y_pred_dt)\n",
    "print(\"Test set accuracy: {:.2f}\".format(acc_dt))\n",
    "print(f\"Test set accuracy: {acc_dt}\")\n",
    "\n",
    "# Visualisasi : Plotting y_test dan y_pred\n",
    "plt.plot(y_test, y_pred_dt, c = 'green')\n",
    "plt.xlabel('True Value')\n",
    "plt.ylabel('Predicted value')\n",
    "plt.title('True value vs predicted value : DecisionTree')\n",
    "plt.show()"
   ]
  },
  {
   "cell_type": "code",
   "execution_count": 35,
   "metadata": {},
   "outputs": [
    {
     "name": "stdout",
     "output_type": "stream",
     "text": [
      "Test set accuracy: 1.00\n",
      "Test set accuracy: 1.0\n"
     ]
    },
    {
     "data": {
      "image/png": "[encoded data removed]",
      "text/plain": [
       "<Figure size 640x480 with 1 Axes>"
      ]
     },
     "metadata": {},
     "output_type": "display_data"
    }
   ],
   "source": [
    "# RANDOM FOREST CLASSIFIER\n",
    "\n",
    "from sklearn.ensemble import RandomForestClassifier \n",
    "\n",
    "rf = RandomForestClassifier()\n",
    "\n",
    "rf.fit(X_train, y_train)\n",
    "\n",
    "y_pred_rf = rf.predict(X_test)\n",
    "\n",
    "acc_rf = accuracy_score(y_test, y_pred_rf)\n",
    "print(\"Test set accuracy: {:.2f}\".format(acc_rf))\n",
    "print(f\"Test set accuracy: {acc_rf}\")\n",
    "\n",
    "# Visualisasi : Plotting y_test dan y_pred\n",
    "plt.plot(y_test, y_pred_rf, c = 'red')\n",
    "plt.xlabel('True Value')\n",
    "plt.ylabel('Predicted value')\n",
    "plt.title('True value vs predicted value : RandomForest')\n",
    "plt.show()"
   ]
  },
  {
   "cell_type": "markdown",
   "metadata": {},
   "source": [
    "- Berdasarkan nomor 5"
   ]
  },
  {
   "cell_type": "code",
   "execution_count": 36,
   "metadata": {},
   "outputs": [],
   "source": [
    "def Luaran(row):  \n",
    "    if row['tahun'] == 2020 :\n",
    "        return 1\n",
    "    else:\n",
    "        return 0\n",
    "\n",
    "df['Luaran'] = df.apply(lambda row: Luaran(row), axis=1)\n",
    "\n",
    "x = df[['skema']]\n",
    "y = df['Luaran']"
   ]
  },
  {
   "cell_type": "code",
   "execution_count": 37,
   "metadata": {},
   "outputs": [],
   "source": [
    "# Split data training dan testing\n",
    "from sklearn.model_selection import train_test_split\n",
    "\n",
    "X_train, X_test, y_train, y_test = train_test_split(X, y, test_size=0.2, random_state=1)"
   ]
  },
  {
   "cell_type": "code",
   "execution_count": 38,
   "metadata": {},
   "outputs": [
    {
     "name": "stderr",
     "output_type": "stream",
     "text": [
      "c:\\Users\\WINDOWS 10\\AppData\\Local\\Programs\\Python\\Python310\\lib\\site-packages\\sklearn\\metrics\\_classification.py:1334: UndefinedMetricWarning: Precision and F-score are ill-defined and being set to 0.0 in labels with no predicted samples. Use `zero_division` parameter to control this behavior.\n",
      "  _warn_prf(average, modifier, msg_start, len(result))\n",
      "c:\\Users\\WINDOWS 10\\AppData\\Local\\Programs\\Python\\Python310\\lib\\site-packages\\sklearn\\metrics\\_classification.py:1334: UndefinedMetricWarning: Precision and F-score are ill-defined and being set to 0.0 in labels with no predicted samples. Use `zero_division` parameter to control this behavior.\n",
      "  _warn_prf(average, modifier, msg_start, len(result))\n",
      "c:\\Users\\WINDOWS 10\\AppData\\Local\\Programs\\Python\\Python310\\lib\\site-packages\\sklearn\\metrics\\_classification.py:1334: UndefinedMetricWarning: Precision and F-score are ill-defined and being set to 0.0 in labels with no predicted samples. Use `zero_division` parameter to control this behavior.\n",
      "  _warn_prf(average, modifier, msg_start, len(result))\n"
     ]
    },
    {
     "name": "stdout",
     "output_type": "stream",
     "text": [
      "              precision    recall  f1-score   support\n",
      "\n",
      "           0       0.76      1.00      0.87        13\n",
      "           1       0.00      0.00      0.00         4\n",
      "\n",
      "    accuracy                           0.76        17\n",
      "   macro avg       0.38      0.50      0.43        17\n",
      "weighted avg       0.58      0.76      0.66        17\n",
      "\n"
     ]
    },
    {
     "data": {
      "image/png": "[encoded data removed]",
      "text/plain": [
       "<Figure size 640x480 with 1 Axes>"
      ]
     },
     "metadata": {},
     "output_type": "display_data"
    }
   ],
   "source": [
    "from sklearn.svm import SVC\n",
    "\n",
    "svm_rbf = SVC(kernel='rbf')\n",
    "\n",
    "svm_rbf.fit(X_train, y_train)\n",
    "\n",
    "y_pred_svm_rbf = svm_rbf.predict(X_test)\n",
    "\n",
    "acc_svm_rbf = accuracy_score(y_test, y_pred_svm_rbf)\n",
    "\n",
    "print(classification_report(y_test, y_pred_svm_rbf))\n",
    "\n",
    "# Visualisasi : Plotting y_test dan y_pred\n",
    "plt.plot(y_test, y_pred_svm_rbf, c = 'purple')\n",
    "plt.xlabel('True Value')\n",
    "plt.ylabel('Predicted value')\n",
    "plt.title('True value vs predicted value : RBF')\n",
    "plt.show()"
   ]
  }
 ],
 "metadata": {
  "kernelspec": {
   "display_name": "Python 3.10.6 64-bit",
   "language": "python",
   "name": "python3"
  },
  "language_info": {
   "codemirror_mode": {
    "name": "ipython",
    "version": 3
   },
   "file_extension": ".py",
   "mimetype": "text/x-python",
   "name": "python",
   "nbconvert_exporter": "python",
   "pygments_lexer": "ipython3",
   "version": "3.10.6"
  },
  "orig_nbformat": 4,
  "vscode": {
   "interpreter": {
    "hash": "12229b3f74b16a4c98473e6590f589e0cae9e6e69a34f509f89892a90dc0754a"
   }
  }
 },
 "nbformat": 4,
 "nbformat_minor": 2
}
